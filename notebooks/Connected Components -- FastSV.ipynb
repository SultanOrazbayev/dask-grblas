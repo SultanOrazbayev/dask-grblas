{
 "cells": [
  {
   "cell_type": "code",
   "execution_count": 1,
   "id": "c545906f-391f-4b58-83f6-7f19d4cdeb74",
   "metadata": {
    "execution": {
     "iopub.execute_input": "2022-01-26T08:56:58.364280Z",
     "iopub.status.busy": "2022-01-26T08:56:58.363281Z",
     "iopub.status.idle": "2022-01-26T08:57:01.988540Z",
     "shell.execute_reply": "2022-01-26T08:57:01.987523Z",
     "shell.execute_reply.started": "2022-01-26T08:56:58.363281Z"
    },
    "tags": []
   },
   "outputs": [],
   "source": [
    "import numpy as np\n",
    "import dask.array as da\n",
    "import pandas as pd\n",
    "from scipy.sparse import coo_matrix, eye\n",
    "import networkx as nx\n",
    "import matplotlib.pyplot as plt\n",
    "import dask_grblas\n",
    "from dask_grblas import Matrix, Vector, Scalar\n",
    "from grblas import unary, binary, monoid, semiring, op\n",
    "from grblas import io as gio"
   ]
  },
  {
   "cell_type": "markdown",
   "id": "a2b3ed41-3f11-45d6-9c08-2c781171bb04",
   "metadata": {
    "tags": []
   },
   "source": [
    "## Connected Components"
   ]
  },
  {
   "cell_type": "markdown",
   "id": "81a31875-f48c-45b2-8109-76c56f30b494",
   "metadata": {
    "execution": {
     "iopub.execute_input": "2022-01-12T19:04:13.299084Z",
     "iopub.status.busy": "2022-01-12T19:04:13.298088Z",
     "iopub.status.idle": "2022-01-12T19:04:13.312086Z",
     "shell.execute_reply": "2022-01-12T19:04:13.311086Z",
     "shell.execute_reply.started": "2022-01-12T19:04:13.299084Z"
    },
    "tags": []
   },
   "source": [
    "The code in this notebook is based on the algorithm described in the following paper:\n",
    "* Yongzhe Zhang, Ariful Azad, Aydin Buluc: *Parallel algorithms for finding connected components using linear algebra*. J. Parallel Distributed Comput. 144: 14-27 (2020).\n",
    "\n",
    "A prevoius version of the algorithm is here (which might not be reflected in this code):\n",
    "* Zhang, Azad, Hu. *FastSV: A Distributed-Memory Connected Component Algorithm with Fast Convergence* (SIAM PP20)"
   ]
  },
  {
   "cell_type": "markdown",
   "id": "6a219d45-4986-4ffc-8e9d-331421acd87d",
   "metadata": {
    "tags": []
   },
   "source": [
    "## Create and visualize a Matrix"
   ]
  },
  {
   "cell_type": "code",
   "execution_count": 2,
   "id": "c8b5efc4-fad0-4c7a-875f-f9fd71c05560",
   "metadata": {
    "execution": {
     "iopub.execute_input": "2022-01-26T08:57:01.990541Z",
     "iopub.status.busy": "2022-01-26T08:57:01.989537Z",
     "iopub.status.idle": "2022-01-26T08:57:02.003537Z",
     "shell.execute_reply": "2022-01-26T08:57:02.002537Z",
     "shell.execute_reply.started": "2022-01-26T08:57:01.990541Z"
    },
    "tags": []
   },
   "outputs": [],
   "source": [
    "# The input matrix A must be symmetric.  Self-edges (diagonal entries) are\n",
    "# OK, and are ignored.  The values and type of A are ignored; just its\n",
    "# pattern is accessed.\n",
    "row_col = np.array([\n",
    "    [0, 0, 0, 1, 2, 2, 3, 6, 6,  9,  9],\n",
    "    [1, 2, 3, 2, 4, 5, 4, 7, 8, 10, 11],\n",
    "])\n",
    "rows, cols = row_col\n",
    "data = np.full_like(rows, fill_value=1)"
   ]
  },
  {
   "cell_type": "code",
   "execution_count": 3,
   "id": "45f77abf-8596-4825-bcc9-371f83541021",
   "metadata": {
    "execution": {
     "iopub.execute_input": "2022-01-26T08:57:02.006537Z",
     "iopub.status.busy": "2022-01-26T08:57:02.005540Z",
     "iopub.status.idle": "2022-01-26T08:57:02.020541Z",
     "shell.execute_reply": "2022-01-26T08:57:02.018538Z",
     "shell.execute_reply.started": "2022-01-26T08:57:02.006537Z"
    },
    "tags": []
   },
   "outputs": [],
   "source": [
    "A = coo_matrix((data, (rows, cols)), shape=(12, 12)).tolil()\n",
    "A[cols, rows] = A[rows, cols]                  # symmetrize matrix\n",
    "A = A.tocoo()"
   ]
  },
  {
   "cell_type": "code",
   "execution_count": 4,
   "id": "b098f91e-5f4b-41d8-80ff-fa01388c537f",
   "metadata": {
    "execution": {
     "iopub.execute_input": "2022-01-26T08:57:02.026541Z",
     "iopub.status.busy": "2022-01-26T08:57:02.024541Z",
     "iopub.status.idle": "2022-01-26T08:57:02.303032Z",
     "shell.execute_reply": "2022-01-26T08:57:02.302033Z",
     "shell.execute_reply.started": "2022-01-26T08:57:02.026541Z"
    },
    "tags": []
   },
   "outputs": [
    {
     "data": {
      "image/png": "[encoded data removed]",
      "text/plain": [
       "<Figure size 432x288 with 1 Axes>"
      ]
     },
     "metadata": {},
     "output_type": "display_data"
    }
   ],
   "source": [
    "# Draw A using spring layout which may even reveal the connected components\n",
    "G = nx.convert_matrix.from_scipy_sparse_matrix(A)\n",
    "layout = nx.drawing.layout.spring_layout(G, k=0.6, scale=1, threshold=1e-10)\n",
    "nx.draw_networkx(G, with_labels=True, node_size=500, font_color='w', pos=layout)"
   ]
  },
  {
   "cell_type": "code",
   "execution_count": 5,
   "id": "5851e045-e6f8-4491-80d6-731cf5da0532",
   "metadata": {
    "execution": {
     "iopub.execute_input": "2022-01-26T08:57:02.305033Z",
     "iopub.status.busy": "2022-01-26T08:57:02.305033Z",
     "iopub.status.idle": "2022-01-26T08:57:02.351033Z",
     "shell.execute_reply": "2022-01-26T08:57:02.350035Z",
     "shell.execute_reply.started": "2022-01-26T08:57:02.305033Z"
    },
    "tags": []
   },
   "outputs": [
    {
     "data": {
      "text/plain": [
       "<dask_grblas.matrix.Matrix at 0x26f8fdcee80>"
      ]
     },
     "execution_count": 5,
     "metadata": {},
     "output_type": "execute_result"
    }
   ],
   "source": [
    "rows_da = da.from_array(np.concatenate([rows, cols]))\n",
    "cols_da = da.from_array(np.concatenate([cols, rows]))\n",
    "data_da = da.from_array(np.concatenate([data, data]))\n",
    "A = Matrix.from_values(rows_da, cols_da, data_da, nrows=12, ncols=12, chunks=4)\n",
    "# Size of the sparse matrix is 12x12 with 22 non-zero elements of type INT64\n",
    "A"
   ]
  },
  {
   "cell_type": "code",
   "execution_count": 6,
   "id": "1bfa83cb-7443-4e76-85f5-b1d942bac53b",
   "metadata": {
    "execution": {
     "iopub.execute_input": "2022-01-26T08:57:02.354033Z",
     "iopub.status.busy": "2022-01-26T08:57:02.353034Z",
     "iopub.status.idle": "2022-01-26T08:57:02.368036Z",
     "shell.execute_reply": "2022-01-26T08:57:02.366033Z",
     "shell.execute_reply.started": "2022-01-26T08:57:02.354033Z"
    },
    "tags": []
   },
   "outputs": [
    {
     "data": {
      "text/plain": [
       "(12, 12)"
      ]
     },
     "execution_count": 6,
     "metadata": {},
     "output_type": "execute_result"
    }
   ],
   "source": [
    "(A.nrows, A.ncols)"
   ]
  },
  {
   "cell_type": "code",
   "execution_count": 7,
   "id": "674bbf9e-d9d7-4064-8329-19c198e54d47",
   "metadata": {
    "execution": {
     "iopub.execute_input": "2022-01-26T08:57:02.370035Z",
     "iopub.status.busy": "2022-01-26T08:57:02.370035Z",
     "iopub.status.idle": "2022-01-26T08:57:02.415032Z",
     "shell.execute_reply": "2022-01-26T08:57:02.414034Z",
     "shell.execute_reply.started": "2022-01-26T08:57:02.370035Z"
    },
    "tags": []
   },
   "outputs": [
    {
     "data": {
      "text/plain": [
       "22"
      ]
     },
     "execution_count": 7,
     "metadata": {},
     "output_type": "execute_result"
    }
   ],
   "source": [
    "A.nvals.compute()"
   ]
  },
  {
   "cell_type": "code",
   "execution_count": 8,
   "id": "9bd3d88b-aa03-4861-872d-c7b916a86e0d",
   "metadata": {
    "execution": {
     "iopub.execute_input": "2022-01-26T08:57:02.417030Z",
     "iopub.status.busy": "2022-01-26T08:57:02.416037Z",
     "iopub.status.idle": "2022-01-26T08:57:02.447035Z",
     "shell.execute_reply": "2022-01-26T08:57:02.446032Z",
     "shell.execute_reply.started": "2022-01-26T08:57:02.417030Z"
    },
    "tags": []
   },
   "outputs": [
    {
     "data": {
      "text/html": [
       "<table>\n",
       "    <tr>\n",
       "        <td>\n",
       "            <table>\n",
       "                <thead>\n",
       "                    <tr>\n",
       "                        <td> </td>\n",
       "                        <th> Array </th>\n",
       "                        <th> Chunk </th>\n",
       "                    </tr>\n",
       "                </thead>\n",
       "                <tbody>\n",
       "                    \n",
       "                    <tr>\n",
       "                        <th> Bytes </th>\n",
       "                        <td> 576 B </td>\n",
       "                        <td> 64 B </td>\n",
       "                    </tr>\n",
       "                    \n",
       "                    <tr>\n",
       "                        <th> Shape </th>\n",
       "                        <td> (12, 12) </td>\n",
       "                        <td> (4, 4) </td>\n",
       "                    </tr>\n",
       "                    <tr>\n",
       "                        <th> Count </th>\n",
       "                        <td> 27 Tasks </td>\n",
       "                        <td> 9 Chunks </td>\n",
       "                    </tr>\n",
       "                    <tr>\n",
       "                    <th> Type </th>\n",
       "                    <td> int32 </td>\n",
       "                    <td> dask_grblas.matrix.InnerMatrix </td>\n",
       "                    </tr>\n",
       "                </tbody>\n",
       "            </table>\n",
       "        </td>\n",
       "        <td>\n",
       "        <svg width=\"170\" height=\"170\" style=\"stroke:rgb(0,0,0);stroke-width:1\" >\n",
       "\n",
       "  <!-- Horizontal lines -->\n",
       "  <line x1=\"0\" y1=\"0\" x2=\"120\" y2=\"0\" style=\"stroke-width:2\" />\n",
       "  <line x1=\"0\" y1=\"40\" x2=\"120\" y2=\"40\" />\n",
       "  <line x1=\"0\" y1=\"80\" x2=\"120\" y2=\"80\" />\n",
       "  <line x1=\"0\" y1=\"120\" x2=\"120\" y2=\"120\" style=\"stroke-width:2\" />\n",
       "\n",
       "  <!-- Vertical lines -->\n",
       "  <line x1=\"0\" y1=\"0\" x2=\"0\" y2=\"120\" style=\"stroke-width:2\" />\n",
       "  <line x1=\"40\" y1=\"0\" x2=\"40\" y2=\"120\" />\n",
       "  <line x1=\"80\" y1=\"0\" x2=\"80\" y2=\"120\" />\n",
       "  <line x1=\"120\" y1=\"0\" x2=\"120\" y2=\"120\" style=\"stroke-width:2\" />\n",
       "\n",
       "  <!-- Colored Rectangle -->\n",
       "  <polygon points=\"0.0,0.0 120.0,0.0 120.0,120.0 0.0,120.0\" style=\"fill:#ECB172A0;stroke-width:0\"/>\n",
       "\n",
       "  <!-- Text -->\n",
       "  <text x=\"60.000000\" y=\"140.000000\" font-size=\"1.0rem\" font-weight=\"100\" text-anchor=\"middle\" >12</text>\n",
       "  <text x=\"140.000000\" y=\"60.000000\" font-size=\"1.0rem\" font-weight=\"100\" text-anchor=\"middle\" transform=\"rotate(0,140.000000,60.000000)\">12</text>\n",
       "</svg>\n",
       "        </td>\n",
       "    </tr>\n",
       "</table>"
      ],
      "text/plain": [
       "dask.array<from_values2D, shape=(12, 12), dtype=int32, chunksize=(4, 4), chunktype=dask_grblas.InnerMatrix>"
      ]
     },
     "execution_count": 8,
     "metadata": {},
     "output_type": "execute_result"
    }
   ],
   "source": [
    "A._delayed"
   ]
  },
  {
   "cell_type": "code",
   "execution_count": 9,
   "id": "df249c2d-f62e-4805-8284-42d58a2ace07",
   "metadata": {
    "execution": {
     "iopub.execute_input": "2022-01-26T08:57:02.450035Z",
     "iopub.status.busy": "2022-01-26T08:57:02.449034Z",
     "iopub.status.idle": "2022-01-26T08:57:02.511036Z",
     "shell.execute_reply": "2022-01-26T08:57:02.510034Z",
     "shell.execute_reply.started": "2022-01-26T08:57:02.450035Z"
    },
    "tags": []
   },
   "outputs": [
    {
     "data": {
      "text/html": [
       "<div>\n",
       "<style>\n",
       "table.gb-info-table {\n",
       "    border: 1px solid black;\n",
       "    max-width: 100%;\n",
       "    margin-top: 0px;\n",
       "    margin-bottom: 0px;\n",
       "    padding-top: 0px;\n",
       "    padding-bottom: 0px;\n",
       "}\n",
       "\n",
       "td.gb-info-name-cell {\n",
       "    line-height: 100%;\n",
       "}\n",
       "\n",
       "details.gb-arg-details {\n",
       "    margin-top: 0px;\n",
       "    margin-bottom: 0px;\n",
       "    padding-top: 0px;\n",
       "    padding-bottom: 5px;\n",
       "    margin-left: 10px;\n",
       "}\n",
       "\n",
       "summary.gb-arg-summary {\n",
       "    display: list-item;\n",
       "    outline: none;\n",
       "    margin-top: 0px;\n",
       "    margin-bottom: 0px;\n",
       "    padding-top: 0px;\n",
       "    padding-bottom: 0px;\n",
       "    margin-left: -10px;\n",
       "}\n",
       "\n",
       "details.gb-expr-details {\n",
       "    margin-top: 0px;\n",
       "    margin-bottom: 0px;\n",
       "    padding-top: 0px;\n",
       "    padding-bottom: 5px;\n",
       "}\n",
       "\n",
       "summary.gb-expr-summary {\n",
       "    display: list-item;\n",
       "    outline: none;\n",
       "    margin-top: 0px;\n",
       "    margin-bottom: 0px;\n",
       "    padding-top: 0px;\n",
       "    padding-bottom: 0px;\n",
       "}\n",
       "\n",
       "blockquote.gb-expr-blockquote {\n",
       "    margin-top: 5px;\n",
       "    margin-bottom: 0px;\n",
       "    padding-top: 0px;\n",
       "    padding-bottom: 0px;\n",
       "    margin-left: 15px;\n",
       "}\n",
       "\n",
       ".gb-scalar {\n",
       "    margin-top: 0px;\n",
       "    margin-bottom: 0px;\n",
       "    padding-top: 0px;\n",
       "    padding-bottom: 5px;\n",
       "}\n",
       "\n",
       "/* modify pandas dataframe */\n",
       "table.dataframe {\n",
       "    margin-top: 0px;\n",
       "    margin-bottom: 0px;\n",
       "    padding-top: 0px;\n",
       "    padding-bottom: 0px;\n",
       "}\n",
       "</style>\n",
       "<details open class=\"gb-arg-details\"><summary class=\"gb-arg-summary\"><tt>M<sub>28</sub></tt><div>\n",
       "<table class=\"gb-info-table\">\n",
       "  <tr>\n",
       "    <td rowspan=\"2\" class=\"gb-info-name-cell\"><pre>grblas.Matrix</pre></td>\n",
       "    <td><pre>nvals</pre></td>\n",
       "    <td><pre>nrows</pre></td>\n",
       "    <td><pre>ncols</pre></td>\n",
       "    <td><pre>dtype</pre></td>\n",
       "    <td><pre>format</pre></td>\n",
       "  </tr>\n",
       "  <tr>\n",
       "    <td>22</td>\n",
       "    <td>12</td>\n",
       "    <td>12</td>\n",
       "    <td>INT32</td>\n",
       "    <td>bitmapr (iso)</td>\n",
       "  </tr>\n",
       "</table>\n",
       "</div>\n",
       "</summary><div>\n",
       "<style scoped>\n",
       "    .dataframe tbody tr th:only-of-type {\n",
       "        vertical-align: middle;\n",
       "    }\n",
       "\n",
       "    .dataframe tbody tr th {\n",
       "        vertical-align: top;\n",
       "    }\n",
       "\n",
       "    .dataframe thead th {\n",
       "        text-align: right;\n",
       "    }\n",
       "</style>\n",
       "<table border=\"1\" class=\"dataframe\">\n",
       "  <thead>\n",
       "    <tr style=\"text-align: right;\">\n",
       "      <th></th>\n",
       "      <th>0</th>\n",
       "      <th>1</th>\n",
       "      <th>2</th>\n",
       "      <th>3</th>\n",
       "      <th>4</th>\n",
       "      <th>5</th>\n",
       "      <th>6</th>\n",
       "      <th>7</th>\n",
       "      <th>8</th>\n",
       "      <th>9</th>\n",
       "      <th>10</th>\n",
       "      <th>11</th>\n",
       "    </tr>\n",
       "  </thead>\n",
       "  <tbody>\n",
       "    <tr>\n",
       "      <th>0</th>\n",
       "      <td></td>\n",
       "      <td>1</td>\n",
       "      <td>1</td>\n",
       "      <td>1</td>\n",
       "      <td></td>\n",
       "      <td></td>\n",
       "      <td></td>\n",
       "      <td></td>\n",
       "      <td></td>\n",
       "      <td></td>\n",
       "      <td></td>\n",
       "      <td></td>\n",
       "    </tr>\n",
       "    <tr>\n",
       "      <th>1</th>\n",
       "      <td>1</td>\n",
       "      <td></td>\n",
       "      <td>1</td>\n",
       "      <td></td>\n",
       "      <td></td>\n",
       "      <td></td>\n",
       "      <td></td>\n",
       "      <td></td>\n",
       "      <td></td>\n",
       "      <td></td>\n",
       "      <td></td>\n",
       "      <td></td>\n",
       "    </tr>\n",
       "    <tr>\n",
       "      <th>2</th>\n",
       "      <td>1</td>\n",
       "      <td>1</td>\n",
       "      <td></td>\n",
       "      <td></td>\n",
       "      <td>1</td>\n",
       "      <td>1</td>\n",
       "      <td></td>\n",
       "      <td></td>\n",
       "      <td></td>\n",
       "      <td></td>\n",
       "      <td></td>\n",
       "      <td></td>\n",
       "    </tr>\n",
       "    <tr>\n",
       "      <th>3</th>\n",
       "      <td>1</td>\n",
       "      <td></td>\n",
       "      <td></td>\n",
       "      <td></td>\n",
       "      <td>1</td>\n",
       "      <td></td>\n",
       "      <td></td>\n",
       "      <td></td>\n",
       "      <td></td>\n",
       "      <td></td>\n",
       "      <td></td>\n",
       "      <td></td>\n",
       "    </tr>\n",
       "    <tr>\n",
       "      <th>4</th>\n",
       "      <td></td>\n",
       "      <td></td>\n",
       "      <td>1</td>\n",
       "      <td>1</td>\n",
       "      <td></td>\n",
       "      <td></td>\n",
       "      <td></td>\n",
       "      <td></td>\n",
       "      <td></td>\n",
       "      <td></td>\n",
       "      <td></td>\n",
       "      <td></td>\n",
       "    </tr>\n",
       "    <tr>\n",
       "      <th>5</th>\n",
       "      <td></td>\n",
       "      <td></td>\n",
       "      <td>1</td>\n",
       "      <td></td>\n",
       "      <td></td>\n",
       "      <td></td>\n",
       "      <td></td>\n",
       "      <td></td>\n",
       "      <td></td>\n",
       "      <td></td>\n",
       "      <td></td>\n",
       "      <td></td>\n",
       "    </tr>\n",
       "    <tr>\n",
       "      <th>6</th>\n",
       "      <td></td>\n",
       "      <td></td>\n",
       "      <td></td>\n",
       "      <td></td>\n",
       "      <td></td>\n",
       "      <td></td>\n",
       "      <td></td>\n",
       "      <td>1</td>\n",
       "      <td>1</td>\n",
       "      <td></td>\n",
       "      <td></td>\n",
       "      <td></td>\n",
       "    </tr>\n",
       "    <tr>\n",
       "      <th>7</th>\n",
       "      <td></td>\n",
       "      <td></td>\n",
       "      <td></td>\n",
       "      <td></td>\n",
       "      <td></td>\n",
       "      <td></td>\n",
       "      <td>1</td>\n",
       "      <td></td>\n",
       "      <td></td>\n",
       "      <td></td>\n",
       "      <td></td>\n",
       "      <td></td>\n",
       "    </tr>\n",
       "    <tr>\n",
       "      <th>8</th>\n",
       "      <td></td>\n",
       "      <td></td>\n",
       "      <td></td>\n",
       "      <td></td>\n",
       "      <td></td>\n",
       "      <td></td>\n",
       "      <td>1</td>\n",
       "      <td></td>\n",
       "      <td></td>\n",
       "      <td></td>\n",
       "      <td></td>\n",
       "      <td></td>\n",
       "    </tr>\n",
       "    <tr>\n",
       "      <th>9</th>\n",
       "      <td></td>\n",
       "      <td></td>\n",
       "      <td></td>\n",
       "      <td></td>\n",
       "      <td></td>\n",
       "      <td></td>\n",
       "      <td></td>\n",
       "      <td></td>\n",
       "      <td></td>\n",
       "      <td></td>\n",
       "      <td>1</td>\n",
       "      <td>1</td>\n",
       "    </tr>\n",
       "    <tr>\n",
       "      <th>10</th>\n",
       "      <td></td>\n",
       "      <td></td>\n",
       "      <td></td>\n",
       "      <td></td>\n",
       "      <td></td>\n",
       "      <td></td>\n",
       "      <td></td>\n",
       "      <td></td>\n",
       "      <td></td>\n",
       "      <td>1</td>\n",
       "      <td></td>\n",
       "      <td></td>\n",
       "    </tr>\n",
       "    <tr>\n",
       "      <th>11</th>\n",
       "      <td></td>\n",
       "      <td></td>\n",
       "      <td></td>\n",
       "      <td></td>\n",
       "      <td></td>\n",
       "      <td></td>\n",
       "      <td></td>\n",
       "      <td></td>\n",
       "      <td></td>\n",
       "      <td>1</td>\n",
       "      <td></td>\n",
       "      <td></td>\n",
       "    </tr>\n",
       "  </tbody>\n",
       "</table>\n",
       "</div></details></div>"
      ],
      "text/plain": [
       "\"M_28\"         nvals  nrows  ncols  dtype         format\n",
       "grblas.Matrix     22     12     12  INT32  bitmapr (iso)\n",
       "--------------------------------------------------------\n",
       "   0  1  2  3  4  5  6  7  8  9  10 11\n",
       "0      1  1  1                        \n",
       "1   1     1                           \n",
       "2   1  1        1  1                  \n",
       "3   1           1                     \n",
       "4         1  1                        \n",
       "5         1                           \n",
       "6                        1  1         \n",
       "7                     1               \n",
       "8                     1               \n",
       "9                                 1  1\n",
       "10                             1      \n",
       "11                             1      "
      ]
     },
     "execution_count": 9,
     "metadata": {},
     "output_type": "execute_result"
    }
   ],
   "source": [
    "A.compute()\n",
    "# This is an adjacency matrix\n",
    "# Reading along a row shows the out-nodes of a vertex\n",
    "# Reading along a column shows the in-nodes of a vertex"
   ]
  },
  {
   "cell_type": "code",
   "execution_count": 10,
   "id": "fcdc96f6-f7f7-4594-8dbc-6c9ddbef73da",
   "metadata": {
    "execution": {
     "iopub.execute_input": "2022-01-26T08:57:02.513036Z",
     "iopub.status.busy": "2022-01-26T08:57:02.513036Z",
     "iopub.status.idle": "2022-01-26T08:57:03.098032Z",
     "shell.execute_reply": "2022-01-26T08:57:03.097032Z",
     "shell.execute_reply.started": "2022-01-26T08:57:02.513036Z"
    },
    "tags": []
   },
   "outputs": [
    {
     "data": {
      "image/png": "[encoded data removed]",
      "text/plain": [
       "<Figure size 432x288 with 1 Axes>"
      ]
     },
     "metadata": {},
     "output_type": "display_data"
    }
   ],
   "source": [
    "# grblas.io.draw could do with a few more tunable options to improve pretty display\n",
    "gio.draw(A.compute())"
   ]
  },
  {
   "cell_type": "code",
   "execution_count": 11,
   "id": "445b74e9-ca19-4067-b2cc-1cd249edcb33",
   "metadata": {
    "execution": {
     "iopub.execute_input": "2022-01-26T08:57:03.101034Z",
     "iopub.status.busy": "2022-01-26T08:57:03.100037Z",
     "iopub.status.idle": "2022-01-26T08:57:03.114036Z",
     "shell.execute_reply": "2022-01-26T08:57:03.113035Z",
     "shell.execute_reply.started": "2022-01-26T08:57:03.101034Z"
    },
    "tags": []
   },
   "outputs": [],
   "source": [
    "def fastSV(A, chunksz='auto'):\n",
    "    n = A.nrows\n",
    "    I = da.arange(n, chunks=chunksz)\n",
    "    # The parent of each vertex is initialized to be the vertex itself:\n",
    "    f = Vector.from_values(I, I, name='parents', chunks=chunksz)\n",
    "    gp = f.dup()        # grandparent of each vertex initialized to parent\n",
    "    gp_dup = gp.dup()   # duplicate grandparents\n",
    "    mngp = f.dup()      # minimum grandparent of each star-vertex\n",
    "\n",
    "    # boolean flag for each vertex\n",
    "    mod = Vector.new(dtype=bool, size=n, name='modified?', chunks=chunksz)\n",
    "    # flag to terminate FastSV algorithm\n",
    "    change = Scalar.from_value(True, dtype=bool, name='changed?')\n",
    "    \n",
    "    # set checkpoint for task graph\n",
    "    f = f.persist()\n",
    "    I = I.persist()\n",
    "    gp = gp.persist()\n",
    "        \n",
    "    while change:\n",
    "        # Step 1: Hooking phase\n",
    "        mngp << semiring.min_second(A @ gp)\n",
    "        f(binary.min)[I] << mngp\n",
    "        f << op.min(f | mngp)\n",
    "        # Step 2: Shortcutting\n",
    "        f << op.min(f | gp)\n",
    "        # Step 3: Calculate grandparents\n",
    "        _, I = f.to_values()\n",
    "        gp << f[I]\n",
    "        # set checkpoint for task graph\n",
    "        f = f.persist()\n",
    "        I = I.persist()\n",
    "        gp = gp.persist()\n",
    "        # Check termination\n",
    "        mod << op.ne(gp_dup & gp)\n",
    "        change << mod.reduce(binary.lor)\n",
    "        gp_dup << gp\n",
    "\n",
    "    return f"
   ]
  },
  {
   "cell_type": "code",
   "execution_count": 12,
   "id": "6e903d0d-61cf-4556-b71d-5d1ca0142b64",
   "metadata": {
    "execution": {
     "iopub.execute_input": "2022-01-26T08:57:03.116032Z",
     "iopub.status.busy": "2022-01-26T08:57:03.116032Z",
     "iopub.status.idle": "2022-01-26T08:57:04.328229Z",
     "shell.execute_reply": "2022-01-26T08:57:04.327228Z",
     "shell.execute_reply.started": "2022-01-26T08:57:03.116032Z"
    },
    "tags": []
   },
   "outputs": [
    {
     "data": {
      "text/plain": [
       "<dask_grblas.vector.Vector at 0x26f8ffb6d00>"
      ]
     },
     "execution_count": 12,
     "metadata": {},
     "output_type": "execute_result"
    }
   ],
   "source": [
    "A = A.persist()\n",
    "connected_components = fastSV(A, chunksz=4)\n",
    "connected_components"
   ]
  },
  {
   "cell_type": "code",
   "execution_count": 13,
   "id": "aa509400-91f6-49f1-a265-c5bb4392fb8f",
   "metadata": {
    "execution": {
     "iopub.execute_input": "2022-01-26T08:57:04.332232Z",
     "iopub.status.busy": "2022-01-26T08:57:04.332232Z",
     "iopub.status.idle": "2022-01-26T08:57:04.360234Z",
     "shell.execute_reply": "2022-01-26T08:57:04.359234Z",
     "shell.execute_reply.started": "2022-01-26T08:57:04.332232Z"
    },
    "tags": []
   },
   "outputs": [
    {
     "data": {
      "text/html": [
       "<table>\n",
       "    <tr>\n",
       "        <td>\n",
       "            <table>\n",
       "                <thead>\n",
       "                    <tr>\n",
       "                        <td> </td>\n",
       "                        <th> Array </th>\n",
       "                        <th> Chunk </th>\n",
       "                    </tr>\n",
       "                </thead>\n",
       "                <tbody>\n",
       "                    \n",
       "                    <tr>\n",
       "                        <th> Bytes </th>\n",
       "                        <td> 48 B </td>\n",
       "                        <td> 16 B </td>\n",
       "                    </tr>\n",
       "                    \n",
       "                    <tr>\n",
       "                        <th> Shape </th>\n",
       "                        <td> (12,) </td>\n",
       "                        <td> (4,) </td>\n",
       "                    </tr>\n",
       "                    <tr>\n",
       "                        <th> Count </th>\n",
       "                        <td> 3 Tasks </td>\n",
       "                        <td> 3 Chunks </td>\n",
       "                    </tr>\n",
       "                    <tr>\n",
       "                    <th> Type </th>\n",
       "                    <td> int32 </td>\n",
       "                    <td> dask_grblas.vector.InnerVector </td>\n",
       "                    </tr>\n",
       "                </tbody>\n",
       "            </table>\n",
       "        </td>\n",
       "        <td>\n",
       "        <svg width=\"170\" height=\"87\" style=\"stroke:rgb(0,0,0);stroke-width:1\" >\n",
       "\n",
       "  <!-- Horizontal lines -->\n",
       "  <line x1=\"0\" y1=\"0\" x2=\"120\" y2=\"0\" style=\"stroke-width:2\" />\n",
       "  <line x1=\"0\" y1=\"37\" x2=\"120\" y2=\"37\" style=\"stroke-width:2\" />\n",
       "\n",
       "  <!-- Vertical lines -->\n",
       "  <line x1=\"0\" y1=\"0\" x2=\"0\" y2=\"37\" style=\"stroke-width:2\" />\n",
       "  <line x1=\"40\" y1=\"0\" x2=\"40\" y2=\"37\" />\n",
       "  <line x1=\"80\" y1=\"0\" x2=\"80\" y2=\"37\" />\n",
       "  <line x1=\"120\" y1=\"0\" x2=\"120\" y2=\"37\" style=\"stroke-width:2\" />\n",
       "\n",
       "  <!-- Colored Rectangle -->\n",
       "  <polygon points=\"0.0,0.0 120.0,0.0 120.0,37.56358655585696 0.0,37.56358655585696\" style=\"fill:#ECB172A0;stroke-width:0\"/>\n",
       "\n",
       "  <!-- Text -->\n",
       "  <text x=\"60.000000\" y=\"57.563587\" font-size=\"1.0rem\" font-weight=\"100\" text-anchor=\"middle\" >12</text>\n",
       "  <text x=\"140.000000\" y=\"18.781793\" font-size=\"1.0rem\" font-weight=\"100\" text-anchor=\"middle\" transform=\"rotate(0,140.000000,18.781793)\">1</text>\n",
       "</svg>\n",
       "        </td>\n",
       "    </tr>\n",
       "</table>"
      ],
      "text/plain": [
       "dask.array<_update_expr, shape=(12,), dtype=int32, chunksize=(4,), chunktype=dask_grblas.InnerVector>"
      ]
     },
     "execution_count": 13,
     "metadata": {},
     "output_type": "execute_result"
    }
   ],
   "source": [
    "connected_components._delayed"
   ]
  },
  {
   "cell_type": "code",
   "execution_count": 14,
   "id": "e2f0d5cd-e958-40fe-ba6f-c7c6b6db3d7d",
   "metadata": {
    "execution": {
     "iopub.execute_input": "2022-01-26T08:57:04.362235Z",
     "iopub.status.busy": "2022-01-26T08:57:04.362235Z",
     "iopub.status.idle": "2022-01-26T08:57:04.408232Z",
     "shell.execute_reply": "2022-01-26T08:57:04.407232Z",
     "shell.execute_reply.started": "2022-01-26T08:57:04.362235Z"
    },
    "tags": []
   },
   "outputs": [
    {
     "data": {
      "text/html": [
       "<div>\n",
       "<style>\n",
       "table.gb-info-table {\n",
       "    border: 1px solid black;\n",
       "    max-width: 100%;\n",
       "    margin-top: 0px;\n",
       "    margin-bottom: 0px;\n",
       "    padding-top: 0px;\n",
       "    padding-bottom: 0px;\n",
       "}\n",
       "\n",
       "td.gb-info-name-cell {\n",
       "    line-height: 100%;\n",
       "}\n",
       "\n",
       "details.gb-arg-details {\n",
       "    margin-top: 0px;\n",
       "    margin-bottom: 0px;\n",
       "    padding-top: 0px;\n",
       "    padding-bottom: 5px;\n",
       "    margin-left: 10px;\n",
       "}\n",
       "\n",
       "summary.gb-arg-summary {\n",
       "    display: list-item;\n",
       "    outline: none;\n",
       "    margin-top: 0px;\n",
       "    margin-bottom: 0px;\n",
       "    padding-top: 0px;\n",
       "    padding-bottom: 0px;\n",
       "    margin-left: -10px;\n",
       "}\n",
       "\n",
       "details.gb-expr-details {\n",
       "    margin-top: 0px;\n",
       "    margin-bottom: 0px;\n",
       "    padding-top: 0px;\n",
       "    padding-bottom: 5px;\n",
       "}\n",
       "\n",
       "summary.gb-expr-summary {\n",
       "    display: list-item;\n",
       "    outline: none;\n",
       "    margin-top: 0px;\n",
       "    margin-bottom: 0px;\n",
       "    padding-top: 0px;\n",
       "    padding-bottom: 0px;\n",
       "}\n",
       "\n",
       "blockquote.gb-expr-blockquote {\n",
       "    margin-top: 5px;\n",
       "    margin-bottom: 0px;\n",
       "    padding-top: 0px;\n",
       "    padding-bottom: 0px;\n",
       "    margin-left: 15px;\n",
       "}\n",
       "\n",
       ".gb-scalar {\n",
       "    margin-top: 0px;\n",
       "    margin-bottom: 0px;\n",
       "    padding-top: 0px;\n",
       "    padding-bottom: 5px;\n",
       "}\n",
       "\n",
       "/* modify pandas dataframe */\n",
       "table.dataframe {\n",
       "    margin-top: 0px;\n",
       "    margin-bottom: 0px;\n",
       "    padding-top: 0px;\n",
       "    padding-bottom: 0px;\n",
       "}\n",
       "</style>\n",
       "<details open class=\"gb-arg-details\"><summary class=\"gb-arg-summary\"><tt>v<sub>1588</sub></tt><div>\n",
       "<table class=\"gb-info-table\">\n",
       "  <tr>\n",
       "    <td rowspan=\"2\" class=\"gb-info-name-cell\"><pre>grblas.Vector</pre></td>\n",
       "    <td><pre>nvals</pre></td>\n",
       "    <td><pre>size</pre></td>\n",
       "    <td><pre>dtype</pre></td>\n",
       "    <td><pre>format</pre></td>\n",
       "  </tr>\n",
       "  <tr>\n",
       "    <td>12</td>\n",
       "    <td>12</td>\n",
       "    <td>INT32</td>\n",
       "    <td>full</td>\n",
       "  </tr>\n",
       "</table>\n",
       "</div>\n",
       "</summary><div>\n",
       "<style scoped>\n",
       "    .dataframe tbody tr th:only-of-type {\n",
       "        vertical-align: middle;\n",
       "    }\n",
       "\n",
       "    .dataframe tbody tr th {\n",
       "        vertical-align: top;\n",
       "    }\n",
       "\n",
       "    .dataframe thead th {\n",
       "        text-align: right;\n",
       "    }\n",
       "</style>\n",
       "<table border=\"1\" class=\"dataframe\">\n",
       "  <thead>\n",
       "    <tr style=\"text-align: right;\">\n",
       "      <th></th>\n",
       "      <th>0</th>\n",
       "      <th>1</th>\n",
       "      <th>2</th>\n",
       "      <th>3</th>\n",
       "      <th>4</th>\n",
       "      <th>5</th>\n",
       "      <th>6</th>\n",
       "      <th>7</th>\n",
       "      <th>8</th>\n",
       "      <th>9</th>\n",
       "      <th>10</th>\n",
       "      <th>11</th>\n",
       "    </tr>\n",
       "  </thead>\n",
       "  <tbody>\n",
       "    <tr>\n",
       "      <th></th>\n",
       "      <td>0</td>\n",
       "      <td>0</td>\n",
       "      <td>0</td>\n",
       "      <td>0</td>\n",
       "      <td>0</td>\n",
       "      <td>0</td>\n",
       "      <td>6</td>\n",
       "      <td>6</td>\n",
       "      <td>6</td>\n",
       "      <td>9</td>\n",
       "      <td>9</td>\n",
       "      <td>9</td>\n",
       "    </tr>\n",
       "  </tbody>\n",
       "</table>\n",
       "</div></details></div>"
      ],
      "text/plain": [
       "\"v_1588\"       nvals  size  dtype  format\n",
       "grblas.Vector     12    12  INT32    full\n",
       "-----------------------------------------\n",
       " 0  1  2  3  4  5  6  7  8  9  10 11\n",
       "  0  0  0  0  0  0  6  6  6  9  9  9"
      ]
     },
     "execution_count": 14,
     "metadata": {},
     "output_type": "execute_result"
    }
   ],
   "source": [
    "connected_components.compute()"
   ]
  },
  {
   "cell_type": "markdown",
   "id": "ac3a9478-5de2-4dda-bd88-ad6197949e63",
   "metadata": {},
   "source": [
    "*connected_components* gives the label of the component to which each vertex belongs.\n",
    "\n",
    "Compare with the graph drawing to check result:"
   ]
  },
  {
   "cell_type": "code",
   "execution_count": 15,
   "id": "8788ceef-f7e5-4111-be4e-296fedccd720",
   "metadata": {
    "execution": {
     "iopub.execute_input": "2022-01-26T08:57:04.410234Z",
     "iopub.status.busy": "2022-01-26T08:57:04.410234Z",
     "iopub.status.idle": "2022-01-26T08:57:04.648231Z",
     "shell.execute_reply": "2022-01-26T08:57:04.647229Z",
     "shell.execute_reply.started": "2022-01-26T08:57:04.410234Z"
    },
    "tags": []
   },
   "outputs": [
    {
     "data": {
      "image/png": "[encoded data removed]",
      "text/plain": [
       "<Figure size 432x288 with 1 Axes>"
      ]
     },
     "metadata": {},
     "output_type": "display_data"
    }
   ],
   "source": [
    "nx.draw_networkx(G, with_labels=True, node_size=500, font_color='w', pos=layout)"
   ]
  },
  {
   "cell_type": "markdown",
   "id": "c208f10d-259b-4868-8ebb-ebd1eaebe2a3",
   "metadata": {},
   "source": [
    "Each component has been identified and labeled with the least vertex ID in that component. "
   ]
  },
  {
   "cell_type": "markdown",
   "id": "7cfcfc35-cd7b-4221-ad9f-28ee609603d0",
   "metadata": {
    "execution": {
     "iopub.execute_input": "2021-11-07T11:33:13.989795Z",
     "iopub.status.busy": "2021-11-07T11:33:13.988801Z",
     "iopub.status.idle": "2021-11-07T11:33:14.006796Z",
     "shell.execute_reply": "2021-11-07T11:33:14.005795Z",
     "shell.execute_reply.started": "2021-11-07T11:33:13.989795Z"
    }
   },
   "source": [
    "### And that's FastSV in essentially 10 very readable lines of Python, thanks to GraphBLAS"
   ]
  }
 ],
 "metadata": {
  "kernelspec": {
   "display_name": "Python 3 (ipykernel)",
   "language": "python",
   "name": "python3"
  },
  "language_info": {
   "codemirror_mode": {
    "name": "ipython",
    "version": 3
   },
   "file_extension": ".py",
   "mimetype": "text/x-python",
   "name": "python",
   "nbconvert_exporter": "python",
   "pygments_lexer": "ipython3",
   "version": "3.9.7"
  }
 },
 "nbformat": 4,
 "nbformat_minor": 5
}
